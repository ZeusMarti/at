{
 "cells": [
  {
   "cell_type": "markdown",
   "metadata": {},
   "source": [
    "# [linoptdemo](https://github.com/atcollab/at/blob/master/atmat/atdemos/opticsAndBeamSizes/linoptdemo.m) example"
   ]
  },
  {
   "cell_type": "markdown",
   "metadata": {},
   "source": [
    "`LINOPTDEMO` script illustrates the use of `LINOPT`\n",
    "It reproduces plots of couplig parameters - figures 1,2 for Ref[1]\n",
    "\n",
    "[1] A.Terebilo, Accelerator Modeling with MATLAB Accelerator Toolbox\n",
    "     Proceedings of PAC 2001\n",
    "\n",
    "See also LINOPT"
   ]
  },
  {
   "cell_type": "markdown",
   "metadata": {},
   "source": [
    "The lattice for this type of analysis must NOT contain time-dependent\n",
    "elements (RF cavity). Elements should NOT use pass-methods with radiation\n",
    "(`StrMPoleSymplectic4Pass`)\n",
    "\n",
    "load `spear2` lattice"
   ]
  },
  {
   "cell_type": "code",
   "execution_count": null,
   "metadata": {},
   "outputs": [],
   "source": [
    "spear2;"
   ]
  },
  {
   "cell_type": "markdown",
   "metadata": {},
   "source": [
    "Find  indexes of elements in `QF` quadrupole family"
   ]
  },
  {
   "cell_type": "code",
   "execution_count": null,
   "metadata": {},
   "outputs": [],
   "source": [
    "QFI = findcells(THERING,'FamName','QF');"
   ]
  },
  {
   "cell_type": "markdown",
   "metadata": {},
   "source": [
    "Select some of them to randomly tilt"
   ]
  },
  {
   "cell_type": "code",
   "execution_count": null,
   "metadata": {},
   "outputs": [],
   "source": [
    "TILTI = QFI([3:7 10:12]);"
   ]
  },
  {
   "cell_type": "markdown",
   "metadata": {},
   "source": [
    "**NOTE:** How to introduce random coupling and misalignment errors:\n",
    "s-rotations(tilts) and transverse displacements (shifts)"
   ]
  },
  {
   "cell_type": "markdown",
   "metadata": {},
   "source": [
    "1. generate random  rotations"
   ]
  },
  {
   "cell_type": "code",
   "execution_count": null,
   "metadata": {},
   "outputs": [],
   "source": [
    "tilterr = 1*pi/180;  % RMS tilt error [degrees]\n",
    "qftilts = tilterr*randn(1,length(TILTI));"
   ]
  },
  {
   "cell_type": "markdown",
   "metadata": {},
   "source": [
    "2. rotate elements"
   ]
  },
  {
   "cell_type": "code",
   "execution_count": null,
   "metadata": {},
   "outputs": [],
   "source": [
    "settilt(TILTI,qftilts);\n",
    "\n",
    "NE = length(THERING)+1;\n",
    "LinOptOutput = linopt(THERING,0,1:NE);"
   ]
  },
  {
   "cell_type": "markdown",
   "metadata": {},
   "source": [
    "copy `LINOPT` output `LinOptOutput` into separate arrays for plotting"
   ]
  },
  {
   "cell_type": "code",
   "execution_count": null,
   "metadata": {},
   "outputs": [],
   "source": [
    "GG = cat(1,LinOptOutput.gamma);\n",
    "spos = cat(1,LinOptOutput.SPos);\n",
    "CC = reshape(cat(2,LinOptOutput.C),4,[]);"
   ]
  },
  {
   "cell_type": "code",
   "execution_count": null,
   "metadata": {},
   "outputs": [],
   "source": [
    "subplot(2,1,1)\n",
    "plot(spos,CC(1,:),'.-r')\n",
    "hold on\n",
    "plot(spos,CC(2,:),'.-k')\n",
    "plot(spos,CC(3,:),'.-b')\n",
    "plot(spos,CC(4,:),'.-g')\n",
    "\n",
    "% Scale axis\n",
    "SCALE = axis;\n",
    "SCALE(2) = 0;\n",
    "SCALE(2) = spos(end);\n",
    "axis(SCALE);\n",
    "% Annotate\n",
    "legend('C_1_1','C_2_1','C_1_2','C_2_2')\n",
    "title('Elements of coupling matrix C_i_j');\n",
    "hold off\n",
    "\n",
    "% Second subplot\n",
    "subplot(2,1,2)\n",
    "plot(spos,GG,'.-k')\n",
    "title('Mixing parameter \\gamma')\n",
    "\n",
    "%Scale \n",
    "SCALE = axis;\n",
    "SCALE(1) = 0;\n",
    "SCALE(2) = spos(end);\n",
    "axis(SCALE);\n",
    "\n",
    "%Annotate\n",
    "legend('\\gamma')\n",
    "xlabel('s - position [m]')"
   ]
  }
 ],
 "metadata": {
  "kernelspec": {
   "display_name": "Octave",
   "language": "octave",
   "name": "octave"
  },
  "language_info": {
   "file_extension": ".m",
   "help_links": [
    {
     "text": "GNU Octave",
     "url": "https://www.gnu.org/software/octave/support.html"
    },
    {
     "text": "Octave Kernel",
     "url": "https://github.com/Calysto/octave_kernel"
    },
    {
     "text": "MetaKernel Magics",
     "url": "https://metakernel.readthedocs.io/en/latest/source/README.html"
    }
   ],
   "mimetype": "text/x-octave",
   "name": "octave",
   "version": "6.1.0"
  }
 },
 "nbformat": 4,
 "nbformat_minor": 4
}
